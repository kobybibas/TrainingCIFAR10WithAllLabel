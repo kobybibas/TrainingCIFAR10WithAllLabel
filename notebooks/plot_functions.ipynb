{
 "cells": [
  {
   "cell_type": "code",
   "execution_count": null,
   "metadata": {},
   "outputs": [],
   "source": [
    "output_path = '../output/figures'\n",
    "print('output_path = ', output_path)\n",
    "is_plot_title = False\n",
    "is_save_fig = True"
   ]
  },
  {
   "cell_type": "code",
   "execution_count": null,
   "metadata": {},
   "outputs": [],
   "source": [
    "print('plt = single_column_plt_params(plt)')\n",
    "def single_column_plt_params(plt):\n",
    "#     print(plt.style.available)\n",
    "#     print(plt.rcParams)\n",
    "    plt.style.use(['seaborn-darkgrid', 'seaborn-paper'])\n",
    "    label_size = 18\n",
    "    tick_size = 14\n",
    "    legend_size = 12\n",
    "    plt.rc('text', usetex=True)\n",
    "    plt.rc('font', family='serif')\n",
    "    plt.rc('axes', titlesize=label_size)\n",
    "    plt.rc('axes', labelsize=label_size)\n",
    "    plt.rc('xtick', labelsize=tick_size)\n",
    "    plt.rc('ytick', labelsize=tick_size)\n",
    "    plt.rc('legend', fontsize=tick_size)\n",
    "    return plt"
   ]
  }
 ],
 "metadata": {
  "kernelspec": {
   "display_name": "Python 3",
   "language": "python",
   "name": "python3"
  },
  "language_info": {
   "codemirror_mode": {
    "name": "ipython",
    "version": 3
   },
   "file_extension": ".py",
   "mimetype": "text/x-python",
   "name": "python",
   "nbconvert_exporter": "python",
   "pygments_lexer": "ipython3",
   "version": "3.6.7"
  },
  "latex_envs": {
   "LaTeX_envs_menu_present": true,
   "autoclose": false,
   "autocomplete": true,
   "bibliofile": "biblio.bib",
   "cite_by": "apalike",
   "current_citInitial": 1,
   "eqLabelWithNumbers": true,
   "eqNumInitial": 1,
   "hotkeys": {
    "equation": "Ctrl-E",
    "itemize": "Ctrl-I"
   },
   "labels_anchors": false,
   "latex_user_defs": false,
   "report_style_numbering": false,
   "user_envs_cfg": false
  },
  "toc": {
   "base_numbering": 1,
   "nav_menu": {},
   "number_sections": true,
   "sideBar": true,
   "skip_h1_title": false,
   "title_cell": "Table of Contents",
   "title_sidebar": "Contents",
   "toc_cell": false,
   "toc_position": {},
   "toc_section_display": true,
   "toc_window_display": false
  }
 },
 "nbformat": 4,
 "nbformat_minor": 2
}
